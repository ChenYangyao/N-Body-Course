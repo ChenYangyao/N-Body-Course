{
 "cells": [
  {
   "cell_type": "code",
   "execution_count": 3,
   "metadata": {},
   "outputs": [],
   "source": [
    "from myplt import *\n",
    "import h5py"
   ]
  },
  {
   "cell_type": "code",
   "execution_count": 8,
   "metadata": {},
   "outputs": [],
   "source": [
    "with h5py.File( './elucid_mesh_N100_L39.062500.h5' ) as file:\n",
    "    dct = { k: np.array(file[k]) for k in file.keys()}"
   ]
  },
  {
   "cell_type": "code",
   "execution_count": 16,
   "metadata": {},
   "outputs": [],
   "source": [
    "d = np.array([ dct['dens'], dct['x'], dct['y'], dct['z'] ], dtype=float).T\n",
    "d[:, 0][ d[:, 0] < 0.5 ] = 0.5\n",
    "d[:, 0] = np.log10( d[:, 0] )\n",
    "np.savetxt('./elucid_mesh_N100_L39.062500.csv', d, header='dens,x,y,z', comments='', delimiter=',')"
   ]
  },
  {
   "cell_type": "code",
   "execution_count": null,
   "metadata": {},
   "outputs": [],
   "source": []
  }
 ],
 "metadata": {
  "kernelspec": {
   "display_name": "Python 3",
   "language": "python",
   "name": "python3"
  },
  "language_info": {
   "codemirror_mode": {
    "name": "ipython",
    "version": 3
   },
   "file_extension": ".py",
   "mimetype": "text/x-python",
   "name": "python",
   "nbconvert_exporter": "python",
   "pygments_lexer": "ipython3",
   "version": "3.7.6"
  }
 },
 "nbformat": 4,
 "nbformat_minor": 2
}
